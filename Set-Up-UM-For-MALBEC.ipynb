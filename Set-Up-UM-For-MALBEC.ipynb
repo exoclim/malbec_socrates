{
 "cells": [
  {
   "cell_type": "markdown",
   "id": "a77b9d0b-86f1-4a20-b0cc-0582f14663ea",
   "metadata": {},
   "source": [
    "# Initialise the UM with the PSG data"
   ]
  },
  {
   "cell_type": "markdown",
   "id": "a14996ab-fd28-4ea6-8895-6f9b51d7d5b2",
   "metadata": {},
   "source": [
    "## Steps (one day we should automate it in a suite...)\n",
    "\n",
    "1. Load PSG data using the script provided by G. Villanueva\n",
    "2. Create a file with vertical levels for the UM\n",
    "3. Save the PSG T-P profile as a netCDF file\n",
    "4. Use idealised reconfiguration to initialise the UM from the T-P profile in the netCDF file\n",
    "5. Use mule to read in the `.astart` file created by the reconfiguration and modify the profile of water mixing ratio\n",
    "6. In the same suite, switch off reconfiguration and use the modified .astart file instead"
   ]
  },
  {
   "cell_type": "code",
   "execution_count": 1,
   "id": "845838b2-11e4-4e73-b079-a636fbfff5c7",
   "metadata": {},
   "outputs": [],
   "source": [
    "import warnings\n",
    "\n",
    "warnings.filterwarnings(\"ignore\", module=\"mule\")"
   ]
  },
  {
   "cell_type": "code",
   "execution_count": 2,
   "id": "16533d05-8dc8-44c7-a931-a6b86ea76ec0",
   "metadata": {},
   "outputs": [],
   "source": [
    "import iris\n",
    "import matplotlib.pyplot as plt\n",
    "import mule\n",
    "import numpy as np\n",
    "from mule.operators import AddScalarOperator, ScaleFactorOperator"
   ]
  },
  {
   "cell_type": "code",
   "execution_count": 3,
   "id": "b2dd3853-d0a6-455b-8ab1-4c705945ae00",
   "metadata": {},
   "outputs": [],
   "source": [
    "import mypaths\n",
    "from psg_util import PSGContainer"
   ]
  },
  {
   "cell_type": "code",
   "execution_count": 4,
   "id": "500105f5-a2ac-4d2f-be5d-8dcfadddeb6c",
   "metadata": {},
   "outputs": [],
   "source": [
    "plt.rcParams[\"figure.figsize\"] = (12, 9)"
   ]
  },
  {
   "cell_type": "code",
   "execution_count": 5,
   "id": "205e2444-8184-4aaf-bdd6-0bc1809a2dec",
   "metadata": {},
   "outputs": [],
   "source": [
    "malbec_case = \"T1A\""
   ]
  },
  {
   "cell_type": "markdown",
   "id": "6a740715-2391-41a8-91ff-631bdc95921e",
   "metadata": {},
   "source": [
    "### 1. Load PSG data"
   ]
  },
  {
   "cell_type": "code",
   "execution_count": 6,
   "id": "97c0fc55-3714-46d1-8223-63594e57f997",
   "metadata": {},
   "outputs": [],
   "source": [
    "PSG = PSGContainer(malbec_case, const_dir=mypaths.const_dir, psg_data_dir=mypaths.psg_data_dir)"
   ]
  },
  {
   "cell_type": "markdown",
   "id": "77aa2181-02f6-44de-b7b3-49b51d054e85",
   "metadata": {},
   "source": [
    "### 2. Create a file with vertical levels for the UM"
   ]
  },
  {
   "cell_type": "code",
   "execution_count": 7,
   "id": "3d70b4e2-4654-4f85-9033-b1a5197c9320",
   "metadata": {},
   "outputs": [],
   "source": [
    "PSG.mk_vert_lev_file()"
   ]
  },
  {
   "cell_type": "markdown",
   "id": "a842bfce-1c55-46ec-9e72-81c09eb22823",
   "metadata": {},
   "source": [
    "### 3. Save the PSG T-P profile as a netCDF file"
   ]
  },
  {
   "cell_type": "code",
   "execution_count": 8,
   "id": "92dc90c0-2d22-46f0-955b-be9cb53c7dfe",
   "metadata": {},
   "outputs": [],
   "source": [
    "PSG.save_p_t_profile()"
   ]
  }
 ],
 "metadata": {
  "kernelspec": {
   "display_name": "Python [conda env:malbec_socrates]",
   "language": "python",
   "name": "conda-env-malbec_socrates-py"
  },
  "language_info": {
   "codemirror_mode": {
    "name": "ipython",
    "version": 3
   },
   "file_extension": ".py",
   "mimetype": "text/x-python",
   "name": "python",
   "nbconvert_exporter": "python",
   "pygments_lexer": "ipython3",
   "version": "3.10.4"
  }
 },
 "nbformat": 4,
 "nbformat_minor": 5
}
